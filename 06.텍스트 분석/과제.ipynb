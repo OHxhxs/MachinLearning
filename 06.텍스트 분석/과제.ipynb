{
 "cells": [
  {
   "cell_type": "markdown",
   "metadata": {},
   "source": [
    "- #### Ngram (1,1) Count, Tfidf             \n",
    "- #### Ngram (1,2) Count, Tfidf            \n",
    "- ##### SVC , DT , RF "
   ]
  },
  {
   "cell_type": "code",
   "execution_count": null,
   "metadata": {},
   "outputs": [],
   "source": []
  }
 ],
 "metadata": {
  "language_info": {
   "name": "python"
  },
  "orig_nbformat": 4
 },
 "nbformat": 4,
 "nbformat_minor": 2
}
