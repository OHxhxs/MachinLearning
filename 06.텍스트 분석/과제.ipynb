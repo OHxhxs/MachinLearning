{
 "cells": [
  {
   "cell_type": "markdown",
   "metadata": {},
   "source": [
    "- #### Ngram (1,1) Count, Tfidf             \n",
    "- #### Ngram (1,2) Count, Tfidf            \n",
    "- ##### SVC , DT , RF "
   ]
  },
  {
   "cell_type": "code",
   "execution_count": 1,
   "metadata": {},
   "outputs": [],
   "source": [
    "import numpy as np\n",
    "import pandas as pd"
   ]
  },
  {
   "cell_type": "code",
   "execution_count": 2,
   "metadata": {},
   "outputs": [
    {
     "data": {
      "text/html": [
       "<div>\n",
       "<style scoped>\n",
       "    .dataframe tbody tr th:only-of-type {\n",
       "        vertical-align: middle;\n",
       "    }\n",
       "\n",
       "    .dataframe tbody tr th {\n",
       "        vertical-align: top;\n",
       "    }\n",
       "\n",
       "    .dataframe thead th {\n",
       "        text-align: right;\n",
       "    }\n",
       "</style>\n",
       "<table border=\"1\" class=\"dataframe\">\n",
       "  <thead>\n",
       "    <tr style=\"text-align: right;\">\n",
       "      <th></th>\n",
       "      <th>id</th>\n",
       "      <th>sentiment</th>\n",
       "      <th>review</th>\n",
       "    </tr>\n",
       "  </thead>\n",
       "  <tbody>\n",
       "    <tr>\n",
       "      <th>0</th>\n",
       "      <td>\"5814_8\"</td>\n",
       "      <td>1</td>\n",
       "      <td>\"With all this stuff going down at the moment ...</td>\n",
       "    </tr>\n",
       "    <tr>\n",
       "      <th>1</th>\n",
       "      <td>\"2381_9\"</td>\n",
       "      <td>1</td>\n",
       "      <td>\"\\\"The Classic War of the Worlds\\\" by Timothy ...</td>\n",
       "    </tr>\n",
       "    <tr>\n",
       "      <th>2</th>\n",
       "      <td>\"7759_3\"</td>\n",
       "      <td>0</td>\n",
       "      <td>\"The film starts with a manager (Nicholas Bell...</td>\n",
       "    </tr>\n",
       "    <tr>\n",
       "      <th>3</th>\n",
       "      <td>\"3630_4\"</td>\n",
       "      <td>0</td>\n",
       "      <td>\"It must be assumed that those who praised thi...</td>\n",
       "    </tr>\n",
       "    <tr>\n",
       "      <th>4</th>\n",
       "      <td>\"9495_8\"</td>\n",
       "      <td>1</td>\n",
       "      <td>\"Superbly trashy and wondrously unpretentious ...</td>\n",
       "    </tr>\n",
       "  </tbody>\n",
       "</table>\n",
       "</div>"
      ],
      "text/plain": [
       "         id  sentiment                                             review\n",
       "0  \"5814_8\"          1  \"With all this stuff going down at the moment ...\n",
       "1  \"2381_9\"          1  \"\\\"The Classic War of the Worlds\\\" by Timothy ...\n",
       "2  \"7759_3\"          0  \"The film starts with a manager (Nicholas Bell...\n",
       "3  \"3630_4\"          0  \"It must be assumed that those who praised thi...\n",
       "4  \"9495_8\"          1  \"Superbly trashy and wondrously unpretentious ..."
      ]
     },
     "execution_count": 2,
     "metadata": {},
     "output_type": "execute_result"
    }
   ],
   "source": [
    "df = pd.read_csv('data/labeledTrainData.tsv', sep='\\t',quoting=3)\n",
    "df.head()"
   ]
  },
  {
   "cell_type": "markdown",
   "metadata": {},
   "source": [
    "- ### 전처리"
   ]
  },
  {
   "cell_type": "code",
   "execution_count": 3,
   "metadata": {},
   "outputs": [
    {
     "data": {
      "text/plain": [
       "'\"With all this stuff going down at the moment with MJ i\\'ve started listening to his music, watching the odd documentary here and there, watched The Wiz and watched Moonwalker again. Maybe i just want to get a certain insight into this guy who i thought was really cool in the eighties just to maybe make up my mind whether he is guilty or innocent. Moonwalker is part biography, part feature film which i remember going to see at the cinema when it was originally released. Some of it has subtle messages about MJ\\'s feeling towards the press and also the obvious message of drugs are bad m\\'kay.<br /><br />Visually impressive but of course this is all about Michael Jackson so unless you remotely like MJ in anyway then you are going to hate this and find it boring. Some may call MJ an egotist for consenting to the making of this movie BUT MJ and most of his fans would say that he made it for the fans which if true is really nice of him.<br /><br />The actual feature film bit when it finally sta'"
      ]
     },
     "execution_count": 3,
     "metadata": {},
     "output_type": "execute_result"
    }
   ],
   "source": [
    "df.review[0][:1000]"
   ]
  },
  {
   "cell_type": "code",
   "execution_count": 4,
   "metadata": {},
   "outputs": [
    {
     "data": {
      "text/plain": [
       "'\"With all this stuff going down at the moment with MJ i\\'ve started listening to his music, watching the odd documentary here and there, watched The Wiz and watched Moonwalker again. Maybe i just want to get a certain insight into this guy who i thought was really cool in the eighties just to maybe make up my mind whether he is guilty or innocent. Moonwalker is part biography, part feature film which i remember going to see at the cinema when it was originally released. Some of it has subtle messages about MJ\\'s feeling towards the press and also the obvious message of drugs are bad m\\'kay.  Visually impressive but of course this is all about Michael Jackson so unless you remotely like MJ in anyway then you are going to hate this and find it boring. Some may call MJ an egotist for consenting to the making of this movie BUT MJ and most of his fans would say that he made it for the fans which if true is really nice of him.  The actual feature film bit when it finally starts is only on for 20 minutes or so excluding the Smooth Criminal sequence and Joe Pesci is convincing as a psychopathic all powerful drug lord. Why he wants MJ dead so bad is beyond me. Because MJ overheard his plans? Nah, Joe Pesci\\'s character ranted that he wanted people to know it is he who is supplying drugs etc so i dunno, maybe he just hates MJ\\'s music.  Lots of cool things in this like MJ turning into a car and a robot and the whole Speed Demon sequence. Also, the director must have had the patience of a saint when it came to filming the kiddy Bad sequence as usually directors hate working with one kid let alone a whole bunch of them performing a complex dance scene.  Bottom line, this movie is for people who like MJ on one level or another (which i think is most people). If not, then stay away. It does try and give off a wholesome message and ironically MJ\\'s bestest buddy in this movie is a girl! Michael Jackson is truly one of the most talented people ever to grace this planet but is he guilty? Well, with all the attention i\\'ve gave this subject....hmmm well i don\\'t know because people can be different behind closed doors, i know this for a fact. He is either an extremely nice but stupid guy or one of the most sickest liars. I hope he is not the latter.\"'"
      ]
     },
     "execution_count": 4,
     "metadata": {},
     "output_type": "execute_result"
    }
   ],
   "source": [
    "df.review = df.review.str.replace('<br />',' ')\n",
    "df.review[0]"
   ]
  },
  {
   "cell_type": "code",
   "execution_count": 5,
   "metadata": {},
   "outputs": [
    {
     "name": "stderr",
     "output_type": "stream",
     "text": [
      "<ipython-input-5-5855da4d030d>:1: FutureWarning: The default value of regex will change from True to False in a future version.\n",
      "  df.review = df.review.str.replace('[^A-Za-z]',' ')\n"
     ]
    },
    {
     "data": {
      "text/plain": [
       "' With all this stuff going down at the moment with MJ i ve started listening to his music  watching the odd documentary here and there  watched The Wiz and watched Moonwalker again  Maybe i just want to get a certain insight into this guy who i thought was really cool in the eighties just to maybe make up my mind whether he is guilty or innocent  Moonwalker is part biography  part feature film which i remember going to see at the cinema when it was originally released  Some of it has subtle messages about MJ s feeling towards the press and also the obvious message of drugs are bad m kay   Visually impressive but of course this is all about Michael Jackson so unless you remotely like MJ in anyway then you are going to hate this and find it boring  Some may call MJ an egotist for consenting to the making of this movie BUT MJ and most of his fans would say that he made it for the fans which if true is really nice of him   The actual feature film bit when it finally starts is only on for  '"
      ]
     },
     "execution_count": 5,
     "metadata": {},
     "output_type": "execute_result"
    }
   ],
   "source": [
    "df.review = df.review.str.replace('[^A-Za-z]',' ')\n",
    "df.review[0][:1000]"
   ]
  },
  {
   "cell_type": "markdown",
   "metadata": {},
   "source": [
    "- ### Train/Test dataset 분리"
   ]
  },
  {
   "cell_type": "code",
   "execution_count": 6,
   "metadata": {},
   "outputs": [
    {
     "data": {
      "text/plain": [
       "0    9375\n",
       "1    9375\n",
       "Name: sentiment, dtype: int64"
      ]
     },
     "execution_count": 6,
     "metadata": {},
     "output_type": "execute_result"
    }
   ],
   "source": [
    "from sklearn.model_selection import train_test_split\n",
    "X_train, X_test, y_train, y_test = train_test_split(\n",
    "    df.review, df.sentiment, stratify=df.sentiment, random_state=2021\n",
    ")\n",
    "y_train.value_counts()"
   ]
  },
  {
   "cell_type": "code",
   "execution_count": 35,
   "metadata": {},
   "outputs": [
    {
     "name": "stdout",
     "output_type": "stream",
     "text": [
      "Count_ve에서 ngram_range가 (1,1)일때 : 0.87648\n",
      "SVC(random_state=2021)의 평가값 : 0.87248\n",
      "DecisionTreeClassifier(random_state=2021)의 평가값 : 0.71936\n",
      "RandomForestClassifier(random_state=2021)의 평가값 : 0.85616\n",
      "Tfid에서 ngram_range가 (1,1) 일때 : 0.8864\n",
      "SVC(random_state=2021)의 평가값 : 0.89104\n",
      "DecisionTreeClassifier(random_state=2021)의 평가값 : 0.71248\n",
      "RandomForestClassifier(random_state=2021)의 평가값 : 0.8488\n",
      "Count_ve에서 ngram_range가 (1,2)일때 : 0.8864\n",
      "SVC(random_state=2021)의 평가값 : 0.87504\n",
      "DecisionTreeClassifier(random_state=2021)의 평가값 : 0.73472\n",
      "RandomForestClassifier(random_state=2021)의 평가값 : 0.85376\n",
      "Tfid에서 ngram_range가 (1,2) 일때 : 0.87904\n",
      "SVC(random_state=2021)의 평가값 : 0.8856\n",
      "DecisionTreeClassifier(random_state=2021)의 평가값 : 0.68816\n",
      "RandomForestClassifier(random_state=2021)의 평가값 : 0.84784\n"
     ]
    }
   ],
   "source": [
    "from sklearn.feature_extraction.text import CountVectorizer\n",
    "from sklearn.feature_extraction.text import TfidfVectorizer\n",
    "from sklearn.linear_model import LogisticRegression\n",
    "from sklearn.svm import SVC\n",
    "from sklearn.tree import DecisionTreeClassifier\n",
    "from sklearn.ensemble import RandomForestClassifier\n",
    "lrc = LogisticRegression(max_iter=300)\n",
    "svc = SVC(random_state=2021)\n",
    "dtc = DecisionTreeClassifier(random_state=2021)\n",
    "rfc = RandomForestClassifier(random_state=2021)\n",
    "\n",
    "for i in range(1,3):\n",
    "    cvect = CountVectorizer(stop_words='english', ngram_range=(1,i))\n",
    "    cvect.fit(X_train)\n",
    "    X_train_cv = cvect.transform(X_train)\n",
    "    X_test_cv = cvect.transform(X_test)\n",
    "    lrc.fit(X_train_cv, y_train)\n",
    "    Count_ve = lrc.score(X_test_cv, y_test)\n",
    "    print(f'Count_ve에서 ngram_range가 (1,{i})일때 : {Count_ve}')\n",
    "    for index in [svc,dtc,rfc]:\n",
    "        index.fit(X_train_cv, y_train)\n",
    "        Count_score = index.score(X_test_cv, y_test)\n",
    "        print(f'{index}의 평가값 : {Count_score}')\n",
    "   \n",
    "    \n",
    "\n",
    "\n",
    "    tvect = TfidfVectorizer(stop_words ='english', ngram_range=(1,i))\n",
    "    tvect.fit(X_train)\n",
    "    X_train_tv = tvect.transform(X_train)\n",
    "    X_test_tv = tvect.transform(X_test)\n",
    "    lrc.fit(X_train_tv, y_train)\n",
    "    Tfid_ve = lrc.score(X_test_tv, y_test)\n",
    "    print(f'Tfid에서 ngram_range가 (1,{i}) 일때 : {Tfid_ve}')\n",
    "    for index in [svc,dtc,rfc]:\n",
    "        index.fit(X_train_tv, y_train)\n",
    "        Tfid_score = index.score(X_test_tv, y_test)\n",
    "        print(f'{index}의 평가값 : {Tfid_score}')\n",
    "    "
   ]
  },
  {
   "cell_type": "code",
   "execution_count": 32,
   "metadata": {},
   "outputs": [
    {
     "data": {
      "text/plain": [
       "((6250, 65253), (6250,))"
      ]
     },
     "execution_count": 32,
     "metadata": {},
     "output_type": "execute_result"
    }
   ],
   "source": [
    "X_test_cv.shape,y_test.shape"
   ]
  },
  {
   "cell_type": "code",
   "execution_count": 19,
   "metadata": {},
   "outputs": [],
   "source": [
    "from sklearn.svm import SVC\n",
    "from sklearn.tree import DecisionTreeClassifier\n",
    "from sklearn.ensemble import RandomForestClassifier\n"
   ]
  },
  {
   "cell_type": "code",
   "execution_count": 20,
   "metadata": {},
   "outputs": [],
   "source": [
    "svc = SVC(random_state=2021)\n",
    "dtc = DecisionTreeClassifier(random_state=2021)\n",
    "rfc = RandomForestClassifier(random_state=2021)"
   ]
  },
  {
   "cell_type": "code",
   "execution_count": 28,
   "metadata": {},
   "outputs": [
    {
     "data": {
      "text/plain": [
       "(18750,)"
      ]
     },
     "execution_count": 28,
     "metadata": {},
     "output_type": "execute_result"
    }
   ],
   "source": [
    "from sklearn.model_selection import train_test_split\n",
    "X_train, X_test, y_train, y_test = train_test_split(\n",
    "    df.review, df.sentiment, stratify=df.sentiment, random_state=2021\n",
    ")\n",
    "X_train.shape"
   ]
  },
  {
   "cell_type": "code",
   "execution_count": null,
   "metadata": {},
   "outputs": [],
   "source": [
    "svc.fit(X_train, y_train)\n",
    "svc.score(X_test, y_test)"
   ]
  },
  {
   "cell_type": "code",
   "execution_count": null,
   "metadata": {},
   "outputs": [],
   "source": [
    "dtc.fit(X_train, y_train)\n",
    "dtc.score(X_test, y_test)"
   ]
  },
  {
   "cell_type": "code",
   "execution_count": null,
   "metadata": {},
   "outputs": [],
   "source": [
    "rfc.fit(X_train,y_train)\n",
    "rfc.score(X_test, y_test)"
   ]
  },
  {
   "cell_type": "code",
   "execution_count": 26,
   "metadata": {},
   "outputs": [],
   "source": [
    "def get_score(index):\n",
    "    index.fit(X_train_tv, y_test)\n",
    "    Count_score = index.score(X_test_cv, y_test)\n",
    "    return Count_score"
   ]
  },
  {
   "cell_type": "code",
   "execution_count": null,
   "metadata": {},
   "outputs": [],
   "source": [
    "for i in range(1,3):\n",
    "    cvect = CountVectorizer(stop_words='english', ngram_range=(1,i))\n",
    "    cvect.fit(X_train)\n",
    "    X_train_cv = cvect.transform(X_train)\n",
    "    X_test_cv = cvect.transform(X_test)\n",
    "    lrc.fit(X_train_cv, y_train)\n",
    "    Count_ve = lrc.score(X_test_cv, y_test)\n",
    "    print(f'Count_ve에서 ngram_range가 (1,{i})일때 : {Count_ve}')\n",
    "    for index in [svc,dtc,rfc]:\n",
    "        index.fit(X_train_cv, y_train)\n",
    "        Count_score = index.score(X_test_cv, y_test)\n",
    "        print(f'{index}의 평가값 : {Count_score}')\n",
    "   \n",
    "    \n",
    "\n",
    "\n",
    "    tvect = TfidfVectorizer(stop_words ='english', ngram_range=(1,i))\n",
    "    tvect.fit(X_train)\n",
    "    X_train_tv = tvect.transform(X_train)\n",
    "    X_test_tv = tvect.transform(X_test)\n",
    "    lrc.fit(X_train_tv, y_train)\n",
    "    Tfid_ve = lrc.score(X_test_tv, y_train)\n",
    "    print(f'Tfid에서 ngram_range가 (1,{i}) 일때 : {Tfid_ve}')\n",
    "    for index in [svc,dtc,rfc]:\n",
    "        index.fit(X_train_tv, y_train)\n",
    "        Tfid_score = index.score(X_test_tv, y_test)\n",
    "        print(f'{index}의 평가값 : {Tfid_score}')"
   ]
  },
  {
   "cell_type": "code",
   "execution_count": null,
   "metadata": {},
   "outputs": [],
   "source": [
    "for i in range(1,3):\n",
    "    cvect = CountVectorizer(stop_words='english', ngram_range=(1,i))    \n",
    "    tvect = TfidfVectorizer(stop_words ='english', ngram_range=(1,i))\n",
    "    for riser in [cvect,tvect]:\n",
    "        def get_score(species):\n",
    "            species.fit(X_train)\n",
    "            X_train_species = species.transform(X_train)\n",
    "            X_test_species = species.transform(X_test)\n",
    "            lrc.fit(X_train_species, y_train)\n",
    "            Vector = lrc.score(X_test_species, y_train)\n",
    "            return f'{species}가 {i}: {Vector}'\n",
    "        \n",
    "        print(get_score({riser}))\n",
    "        \n",
    "        for index in [svc,dtc,rfc]:\n",
    "            index.fit(X_train_riser, y_train)\n",
    "            k = index.score(X_test_riser, y_test)\n",
    "            print(f'{index}의 평가값 : {k}')"
   ]
  }
 ],
 "metadata": {
  "interpreter": {
   "hash": "c81169c30fb96244cfba0db287a0d3fd5325268de070a7a6116eecd4596df902"
  },
  "kernelspec": {
   "display_name": "Python 3.8.8 64-bit ('base': conda)",
   "language": "python",
   "name": "python3"
  },
  "language_info": {
   "codemirror_mode": {
    "name": "ipython",
    "version": 3
   },
   "file_extension": ".py",
   "mimetype": "text/x-python",
   "name": "python",
   "nbconvert_exporter": "python",
   "pygments_lexer": "ipython3",
   "version": "3.8.8"
  },
  "orig_nbformat": 4
 },
 "nbformat": 4,
 "nbformat_minor": 2
}
